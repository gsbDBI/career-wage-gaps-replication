{
 "cells": [
  {
   "cell_type": "code",
   "execution_count": null,
   "metadata": {},
   "outputs": [],
   "source": [
    "import numpy as np\n",
    "import pandas as pd\n",
    "from sklearn.linear_model import LinearRegression"
   ]
  },
  {
   "cell_type": "code",
   "execution_count": 20,
   "metadata": {},
   "outputs": [],
   "source": [
    "df = pd.read_csv('../data/master_dataset_gender-1990-2019_1-16.csv')"
   ]
  },
  {
   "cell_type": "code",
   "execution_count": 21,
   "metadata": {},
   "outputs": [],
   "source": [
    "covs = ['expf', 'expfsq',\n",
    "       'expp', 'exppsq', 'edyrs', 'colldeg', 'advdeg', 'northeast',\n",
    "       'northcentral', 'south', 'black', 'hisp', 'otherrace', 'cb', 'gov',\n",
    "       'durables', 'nondurables', 'transport_ind', 'utilities',\n",
    "       'communications', 'retailtrade', 'wholesaletrade', 'finance',\n",
    "       'socartother', 'hotelsrestaurants', 'professional', 'medical',\n",
    "       'education', 'publicadmin', 'business', 'financialop', 'computer',\n",
    "       'architect', 'scientist', 'socialworker', 'postseceduc', 'legaleduc',\n",
    "       'artist', 'lawyerphysician', 'healthcare', 'healthsupport',\n",
    "       'protective', 'foodcare', 'building', 'sales', 'officeadmin', 'farmer',\n",
    "       'constructextractinstall', 'production', 'transport']\n",
    "bk_covs = ['expf', 'expfsq', \n",
    "          'expp', 'exppsq', 'edyrs', 'colldeg', 'advdeg', 'msa', 'northeast', \n",
    "          'northcentral', 'south', 'black', 'hisp', 'otherrace', 'cb', 'gov',\n",
    "          'durables', 'nondurables', 'Transport', 'Utilities', \n",
    "          'Communications', 'retailtrade', 'wholesaletrade', 'finance', \n",
    "          'SocArtOther', 'hotelsrestaurants', 'Medical', \n",
    "          'Education', 'professional', 'publicadmin', 'business', 'financialop', 'computer', \n",
    "          'architect', 'scientist', 'socialworker', 'postseceduc', 'legaleduc', \n",
    "          'artist', 'lawyerphysician', 'healthcare', 'healthsupport', \n",
    "          'protective', 'foodcare', 'building', 'sales', 'officeadmin', 'farmer', \n",
    "          'constructextractinstall', 'production', 'transport']"
   ]
  },
  {
   "cell_type": "code",
   "execution_count": 22,
   "metadata": {},
   "outputs": [],
   "source": [
    "bk = pd.read_csv(\"../data/psid_blau_kahn_2017.csv\")\n",
    "bk = bk[bk['farmer'] != 1.]\n",
    "bk = bk[~pd.isnull(bk['smsa'])]\n",
    "bk = bk[bk['annwks'] >= 26]\n",
    "bk['lnwage'] = bk['lnrealwg']\n",
    "bk = bk[bk['ft'] == 1]\n",
    "bk = bk[bk['wagesamp'] == 1.]\n",
    "\n",
    "bk['expf'] = bk['yrsftexpfz']\n",
    "bk['expfsq'] = bk['yrsftexpfz'] ** 2\n",
    "bk['expp'] = bk['yrsptexpfz']\n",
    "bk['exppsq'] = bk['yrsptexpfzsq']\n",
    "bk['edyrs'] = bk['schupd']\n",
    "bk['colldeg'] = bk['ba']\n",
    "bk['advdeg'] = bk['adv']\n",
    "bk['msa'] = bk['smsa']\n",
    "bk['otherrace'] = bk['othrace']\n",
    "bk['cb'] = bk['unjob'] \n",
    "bk['gov'] = np.where(bk['wtrgov'] == 1, 1, 0)"
   ]
  },
  {
   "cell_type": "markdown",
   "metadata": {},
   "source": [
    "#### The data in the next cell makes Table S1."
   ]
  },
  {
   "cell_type": "code",
   "execution_count": 23,
   "metadata": {},
   "outputs": [
    {
     "name": "stdout",
     "output_type": "stream",
     "text": [
      "========= 1989 =========\n",
      "## Our results ##\n",
      "Total gap: -0.301\n",
      "Adjusted gap: -0.099\n",
      "Total ratio: 0.740\n",
      "Adjusted ratio: 0.906\n",
      ".....\n",
      "## Blau/Kahn results ##\n",
      "Total gap: -0.301\n",
      "Adjusted gap: -0.079\n",
      "Total ratio: 0.740\n",
      "Adjusted ratio: 0.924\n",
      "\n",
      "========= 1998 =========\n",
      "## Our results ##\n",
      "Total gap: -0.261\n",
      "Adjusted gap: -0.087\n",
      "Total ratio: 0.771\n",
      "Adjusted ratio: 0.917\n",
      ".....\n",
      "## Blau/Kahn results ##\n",
      "Total gap: -0.259\n",
      "Adjusted gap: -0.090\n",
      "Total ratio: 0.772\n",
      "Adjusted ratio: 0.914\n",
      "\n",
      "========= 2010 =========\n",
      "## Our results ##\n",
      "Total gap: -0.226\n",
      "Adjusted gap: -0.094\n",
      "Total ratio: 0.797\n",
      "Adjusted ratio: 0.911\n",
      ".....\n",
      "## Blau/Kahn results ##\n",
      "Total gap: -0.231\n",
      "Adjusted gap: -0.088\n",
      "Total ratio: 0.793\n",
      "Adjusted ratio: 0.916\n",
      "\n"
     ]
    }
   ],
   "source": [
    "possible_years = [1990, 1999,  2011]\n",
    "\n",
    "for year in possible_years:\n",
    "  X = df[df['year'] == year][covs].values\n",
    "  A = df[df['year'] == year]['treatment'].values\n",
    "  Y = df[df['year'] == year]['lnwage'].values\n",
    "  weights = df[df['year'] == year]['famwgt'].values\n",
    "\n",
    "  treated_linreg = LinearRegression()\n",
    "  treated_linreg.fit(X[A == 1], Y[A == 1], sample_weight=weights[A == 1])\n",
    "  untreated_linreg = LinearRegression()\n",
    "  untreated_linreg.fit(X[A == 0], Y[A == 0], sample_weight=weights[A == 0])\n",
    "  att_df = np.average(treated_linreg.predict(X[A == 1]) - untreated_linreg.predict(X[A == 1]), weights=weights[A == 1])\n",
    "  total_gap_df = np.average(Y[A == 1], weights=weights[A == 1]) - np.average(Y[A == 0], weights=weights[A == 0])\n",
    "\n",
    "  yr = str(year)[-2:]\n",
    "  bk_yr = bk[(bk['ft'] == 1) & (bk['wagesamp'] == 1.) & (bk['wave'] == float(year))]\n",
    "  X_bk = bk_yr[bk_covs].values\n",
    "  A_bk = bk_yr['female'].values\n",
    "  Y_bk = bk_yr['lnwage'].values\n",
    "  weights_bk = bk_yr['famwgt'].values\n",
    "\n",
    "  treated_linreg_bk = LinearRegression()\n",
    "  treated_linreg_bk.fit(X_bk[A_bk == 1], Y_bk[A_bk == 1], sample_weight=weights_bk[A_bk == 1])\n",
    "  untreated_linreg_bk = LinearRegression()\n",
    "  untreated_linreg_bk.fit(X_bk[A_bk == 0], Y_bk[A_bk == 0], sample_weight=weights_bk[A_bk == 0])\n",
    "  att_bk = np.average(treated_linreg_bk.predict(X_bk[A_bk == 1]) - untreated_linreg_bk.predict(X_bk[A_bk == 1]), weights=weights_bk[A_bk == 1])\n",
    "  total_gap_bk = np.average(Y_bk[A_bk == 1], weights=weights_bk[A_bk == 1]) - np.average(Y_bk[A_bk == 0], weights=weights_bk[A_bk == 0])\n",
    "\n",
    "  print(f\"========= {year-1} =========\")\n",
    "  print(\"## Our results ##\")\n",
    "  print(f\"Total gap: {total_gap_df:.3f}\")\n",
    "  print(f\"Adjusted gap: {att_df:.3f}\")\n",
    "  print(f\"Total ratio: {np.exp(total_gap_df):.3f}\")\n",
    "  print(f\"Adjusted ratio: {np.exp(att_df):.3f}\")\n",
    "  print(\".....\")\n",
    "  print(\"## Blau/Kahn results ##\")\n",
    "  print(f\"Total gap: {total_gap_bk:.3f}\")\n",
    "  print(f\"Adjusted gap: {att_bk:.3f}\")\n",
    "  print(f\"Total ratio: {np.exp(total_gap_bk):.3f}\")\n",
    "  print(f\"Adjusted ratio: {np.exp(att_bk):.3f}\")\n",
    "  print(\"\")"
   ]
  },
  {
   "cell_type": "markdown",
   "metadata": {},
   "source": [
    "Store Table S1 data as csv in /figs folder."
   ]
  },
  {
   "cell_type": "code",
   "execution_count": 24,
   "metadata": {},
   "outputs": [
    {
     "name": "stdout",
     "output_type": "stream",
     "text": [
      "\n",
      "✅ Results saved to: ../figs/blau_kahn_comparison.csv\n"
     ]
    }
   ],
   "source": [
    "possible_years = [1990, 1999, 2011]\n",
    "results = []\n",
    "\n",
    "for year in possible_years:\n",
    "    # Our data\n",
    "    X = df[df['year'] == year][covs].values\n",
    "    A = df[df['year'] == year]['treatment'].values\n",
    "    Y = df[df['year'] == year]['lnwage'].values\n",
    "    weights = df[df['year'] == year]['famwgt'].values\n",
    "\n",
    "    # Our regression\n",
    "    treated_linreg = LinearRegression().fit(X[A == 1], Y[A == 1], sample_weight=weights[A == 1])\n",
    "    untreated_linreg = LinearRegression().fit(X[A == 0], Y[A == 0], sample_weight=weights[A == 0])\n",
    "\n",
    "    att_df = np.average(treated_linreg.predict(X[A == 1]) - untreated_linreg.predict(X[A == 1]), weights=weights[A == 1])\n",
    "    total_gap_df = np.average(Y[A == 1], weights=weights[A == 1]) - np.average(Y[A == 0], weights=weights[A == 0])\n",
    "\n",
    "    # BK data\n",
    "    bk_yr = bk[(bk['ft'] == 1) & (bk['wagesamp'] == 1.0) & (bk['wave'] == float(year))]\n",
    "    X_bk = bk_yr[bk_covs].values\n",
    "    A_bk = bk_yr['female'].values\n",
    "    Y_bk = bk_yr['lnwage'].values\n",
    "    weights_bk = bk_yr['famwgt'].values\n",
    "\n",
    "    # BK regression\n",
    "    treated_linreg_bk = LinearRegression().fit(X_bk[A_bk == 1], Y_bk[A_bk == 1], sample_weight=weights_bk[A_bk == 1])\n",
    "    untreated_linreg_bk = LinearRegression().fit(X_bk[A_bk == 0], Y_bk[A_bk == 0], sample_weight=weights_bk[A_bk == 0])\n",
    "\n",
    "    att_bk = np.average(treated_linreg_bk.predict(X_bk[A_bk == 1]) - untreated_linreg_bk.predict(X_bk[A_bk == 1]), weights=weights_bk[A_bk == 1])\n",
    "    total_gap_bk = np.average(Y_bk[A_bk == 1], weights=weights_bk[A_bk == 1]) - np.average(Y_bk[A_bk == 0], weights=weights_bk[A_bk == 0])\n",
    "\n",
    "    # Store results\n",
    "    results.append({\n",
    "        'Year': year - 1,\n",
    "        'Total Gap (Ours)': round(total_gap_df, 3),\n",
    "        'Adjusted Gap (Ours)': round(att_df, 3),\n",
    "        'Total Ratio (Ours)': round(np.exp(total_gap_df), 3),\n",
    "        'Adjusted Ratio (Ours)': round(np.exp(att_df), 3),\n",
    "        'Total Gap (BK)': round(total_gap_bk, 3),\n",
    "        'Adjusted Gap (BK)': round(att_bk, 3),\n",
    "        'Total Ratio (BK)': round(np.exp(total_gap_bk), 3),\n",
    "        'Adjusted Ratio (BK)': round(np.exp(att_bk), 3)\n",
    "    })\n",
    "\n",
    "# Convert to DataFrame\n",
    "results_df = pd.DataFrame(results)\n",
    "\n",
    "# Save to CSV in ../figs/\n",
    "results_df.to_csv(\"../figs/blau_kahn_comparison.csv\", index=False)\n",
    "\n",
    "print(f\"\\n✅ Results saved to: ../figs/blau_kahn_comparison.csv\")"
   ]
  }
 ],
 "metadata": {
  "kernelspec": {
   "display_name": "Python 3",
   "language": "python",
   "name": "python3"
  },
  "language_info": {
   "codemirror_mode": {
    "name": "ipython",
    "version": 3
   },
   "file_extension": ".py",
   "mimetype": "text/x-python",
   "name": "python",
   "nbconvert_exporter": "python",
   "pygments_lexer": "ipython3",
   "version": "3.9.6"
  }
 },
 "nbformat": 4,
 "nbformat_minor": 2
}
